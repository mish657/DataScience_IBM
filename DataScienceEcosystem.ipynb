{
 "cells": [
  {
   "cell_type": "markdown",
   "id": "b988fb76-792a-4d4d-8986-6dfa4e37ca9d",
   "metadata": {},
   "source": [
    "# Data Science Tools and Ecosystem"
   ]
  },
  {
   "cell_type": "markdown",
   "id": "ad80e137-49f8-4f8b-a335-7aed298ecfd3",
   "metadata": {},
   "source": [
    "In this notebook, Data Science Tools and Ecosystem are summarized."
   ]
  },
  {
   "cell_type": "markdown",
   "id": "811c729f-9339-40d7-b634-e852c5e6b5a6",
   "metadata": {},
   "source": [
    "<b>Objectives:</b>\n",
    "\n",
    "- Listing popular Data Science Languages\n",
    "- Listing popular Data Science Libraries\n",
    "- Listing popular Data Science Tools\n"
   ]
  },
  {
   "cell_type": "markdown",
   "id": "1093cfcf-ac46-4dd2-81f7-2870ed5b6feb",
   "metadata": {},
   "source": [
    "## Popular Lanuages for Data Science\n",
    "\n",
    "Some of the popular languages that Data Scientists use are:\n",
    "\n",
    "1. Python\n",
    "2. R\n",
    "3. SQL\n",
    "4. Scala"
   ]
  },
  {
   "cell_type": "markdown",
   "id": "214b3208-4760-45ae-98d8-a4726c87834c",
   "metadata": {},
   "source": [
    "## Commonly Used Libraries for Data Science\n",
    "\n",
    "Some of the commonly used libraries used by Data Scientists include:\n",
    "\n",
    "1. Numpy\n",
    "2. Scikit-learn\n",
    "3. Pandas\n",
    "4. Matplotlib\n",
    "5. Seaborn"
   ]
  },
  {
   "cell_type": "markdown",
   "id": "dd93d4f8-ed87-434b-99b2-d0bf9c58b474",
   "metadata": {},
   "source": [
    "## Data Science Tools\n",
    "\n",
    "|Data Science Tools|\n",
    "|------------------|\n",
    "|Apache Spark|\n",
    "|Jupyter Notebooks|\n",
    "|Pytorch|"
   ]
  },
  {
   "cell_type": "markdown",
   "id": "f3fe1f9c-de57-4d33-b9cf-7495f217bee2",
   "metadata": {},
   "source": [
    "### Below are a few examples of evaluating arithmetic expressions in Python.\n",
    "\n",
    "2+2=4\\\n",
    "6-4=2\\\n",
    "4*5=20\\\n",
    "10/2=5\\\n",
    "10%2=0\n"
   ]
  },
  {
   "cell_type": "code",
   "execution_count": 16,
   "id": "4827029b-7855-4ed5-ab67-3ff647aeb8fe",
   "metadata": {},
   "outputs": [
    {
     "data": {
      "text/plain": [
       "17"
      ]
     },
     "execution_count": 16,
     "metadata": {},
     "output_type": "execute_result"
    }
   ],
   "source": [
    "#This a simple arithmetic expression to mutiply then add integers\n",
    "\n",
    "(3*4)+5"
   ]
  },
  {
   "cell_type": "code",
   "execution_count": 18,
   "id": "ca06d105-fa10-4ff3-bf9e-b3c4f188aafc",
   "metadata": {},
   "outputs": [
    {
     "data": {
      "text/plain": [
       "3.3333333333333335"
      ]
     },
     "execution_count": 18,
     "metadata": {},
     "output_type": "execute_result"
    }
   ],
   "source": [
    "#This will convert 200 minutes to hours by diving by 60\n",
    "\n",
    "200/60"
   ]
  },
  {
   "cell_type": "markdown",
   "id": "c68bae27-954d-46f8-bba1-067d3acad0ab",
   "metadata": {},
   "source": [
    "## Author\n",
    "\n",
    "Praditya Mishra"
   ]
  },
  {
   "cell_type": "code",
   "execution_count": null,
   "id": "838ff653-0a12-42d9-a5e0-249d299fdf7b",
   "metadata": {},
   "outputs": [],
   "source": []
  }
 ],
 "metadata": {
  "kernelspec": {
   "display_name": "Python [conda env:venv]",
   "language": "python",
   "name": "conda-env-venv-py"
  },
  "language_info": {
   "codemirror_mode": {
    "name": "ipython",
    "version": 3
   },
   "file_extension": ".py",
   "mimetype": "text/x-python",
   "name": "python",
   "nbconvert_exporter": "python",
   "pygments_lexer": "ipython3",
   "version": "3.13.0"
  }
 },
 "nbformat": 4,
 "nbformat_minor": 5
}
